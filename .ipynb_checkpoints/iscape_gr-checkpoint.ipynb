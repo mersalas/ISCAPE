{
 "cells": [
  {
   "cell_type": "code",
   "execution_count": 4,
   "id": "b40ea8c4",
   "metadata": {},
   "outputs": [
    {
     "name": "stdout",
     "output_type": "stream",
     "text": [
      "Note: you may need to restart the kernel to use updated packages.\n"
     ]
    }
   ],
   "source": [
    "pip freeze > requirements.txt"
   ]
  },
  {
   "cell_type": "code",
   "execution_count": 1,
   "id": "7880d8ab",
   "metadata": {},
   "outputs": [],
   "source": [
    "#|default_exp iscape"
   ]
  },
  {
   "cell_type": "code",
   "execution_count": 2,
   "id": "95c1755b",
   "metadata": {},
   "outputs": [
    {
     "name": "stderr",
     "output_type": "stream",
     "text": [
      "2025-05-28 15:33:52.221910: I tensorflow/core/util/port.cc:110] oneDNN custom operations are on. You may see slightly different numerical results due to floating-point round-off errors from different computation orders. To turn them off, set the environment variable `TF_ENABLE_ONEDNN_OPTS=0`.\n",
      "2025-05-28 15:33:52.245332: I tensorflow/core/platform/cpu_feature_guard.cc:182] This TensorFlow binary is optimized to use available CPU instructions in performance-critical operations.\n",
      "To enable the following instructions: AVX2 AVX_VNNI FMA, in other operations, rebuild TensorFlow with the appropriate compiler flags.\n",
      "2025-05-28 15:33:52.588055: W tensorflow/compiler/tf2tensorrt/utils/py_utils.cc:38] TF-TRT Warning: Could not find TensorRT\n",
      "Skipped loading some Jax models, missing a dependency. No module named 'jax'\n"
     ]
    },
    {
     "name": "stdout",
     "output_type": "stream",
     "text": [
      "Running on local URL:  http://127.0.0.1:7860\n",
      "\n",
      "To create a public link, set `share=True` in `launch()`.\n"
     ]
    },
    {
     "data": {
      "text/plain": []
     },
     "execution_count": 2,
     "metadata": {},
     "output_type": "execute_result"
    }
   ],
   "source": [
    "#|export\n",
    "import numpy as np\n",
    "import deepchem as dc\n",
    "import gradio as gr\n",
    "import joblib\n",
    "from rdkit import Chem\n",
    "\n",
    "# Function to calculate properties\n",
    "def calculate_properties(smiles):\n",
    "    mol = Chem.MolFromSmiles(smiles)\n",
    "    if mol is None:\n",
    "        return None\n",
    "    \n",
    "    # calculate the fraction of C-C pairs\n",
    "    num_bonds = mol.GetNumBonds()\n",
    "    num_cc_pairs = sum(1 for bond in mol.GetBonds() if bond.GetBeginAtom().GetSymbol() == 'C' and bond.GetEndAtom().GetSymbol() == 'C')\n",
    "    frac_CC = num_cc_pairs / num_bonds if num_bonds > 0 else 0\n",
    "    \n",
    "    return frac_CC\n",
    "\n",
    "# Load the pre-trained model\n",
    "svc = joblib.load('svc.pkl')\n",
    "scaler_fCC = joblib.load('scaler_qc.pkl')\n",
    "scaler_ECFP = joblib.load('scaler_ecfp.pkl')\n",
    "normalizer = joblib.load('normalizer.pkl')\n",
    "\n",
    "# Circular fingerprint featurizer\n",
    "featurizer = dc.feat.CircularFingerprint(radius=7, size=512, chiral=True, bonds=True,\n",
    "                                        features=True, is_counts_based=True)\n",
    "\n",
    "# Function to make predictions\n",
    "def make_pred(smiles):\n",
    "    mol = Chem.MolFromSmiles(smiles)\n",
    "    if mol is None:\n",
    "        return \"Invalid SMILES string\"\n",
    "    \n",
    "    # Calculate frac_CC\n",
    "    frac_CC = calculate_properties(smiles)\n",
    "    if frac_CC is None:\n",
    "        return \"Error in property calculation\"\n",
    "\n",
    "    # Featurize SMILES using ECFP\n",
    "    ecfp_features = featurizer.featurize([smiles])[0]\n",
    "\n",
    "    # Scale the properties and ECFP features using pre-fitted scaler\n",
    "    fCC_scaled = scaler_fCC.transform([[frac_CC]]) \n",
    "    ecfp_scaled = scaler_ECFP.transform([ecfp_features])\n",
    "    \n",
    "    # Combine properties and ECFP features\n",
    "    X = np.concatenate([fCC_scaled, ecfp_scaled], axis=1)\n",
    "    \n",
    "    # Normalize the features using the pre-fitted normalizer\n",
    "    X_norm = normalizer.transform(X)\n",
    "\n",
    "    # Predict with the model\n",
    "    pred = svc.predict(X_norm)\n",
    "    \n",
    "    # Return the prediction\n",
    "    if pred[0] == 1:\n",
    "        return \"Active\"\n",
    "    else:\n",
    "        return \"Inactive\"\n",
    "\n",
    "# Define Gradio interface\n",
    "smiles_input = gr.components.Textbox(label=\"Enter the SMILES of the peptide\")\n",
    "label_output = gr.components.Textbox(label=\"Antibacterial activity against E. coli\")\n",
    "\n",
    "# Example SMILES strings\n",
    "examples = [['[NH2+]=C(N)NCCC[C@H](NC(=O)CCCCCCCCCCCCC)C(=O)N[C@@H](Cc1cnc[NH]1)C(N)=O'],\n",
    "            ['NC(=O)[C@H](Cc1cnc[NH]1)NC(=O)[C@@H](NC(=O)CCCCCCCCCCCCC)Cc1cnc[NH]1']]\n",
    "\n",
    "# Set up the Gradio interface\n",
    "intf = gr.Interface(fn=make_pred, inputs=smiles_input, outputs=label_output, examples=examples)\n",
    "intf.launch(inline=False)  "
   ]
  },
  {
   "cell_type": "code",
   "execution_count": 3,
   "id": "9c1d4499",
   "metadata": {},
   "outputs": [
    {
     "name": "stdout",
     "output_type": "stream",
     "text": [
      "IMPORTANT: You are using gradio version 3.44.4, however version 4.44.1 is available, please upgrade.\n",
      "--------\n"
     ]
    },
    {
     "name": "stderr",
     "output_type": "stream",
     "text": [
      "/home/rlsalas/miniconda3/envs/deepchem/lib/python3.8/site-packages/sklearn/base.py:439: UserWarning: X does not have valid feature names, but RobustScaler was fitted with feature names\n",
      "  warnings.warn(\n",
      "/home/rlsalas/miniconda3/envs/deepchem/lib/python3.8/site-packages/sklearn/base.py:439: UserWarning: X does not have valid feature names, but MinMaxScaler was fitted with feature names\n",
      "  warnings.warn(\n",
      "/home/rlsalas/miniconda3/envs/deepchem/lib/python3.8/site-packages/sklearn/base.py:439: UserWarning: X does not have valid feature names, but SVC was fitted with feature names\n",
      "  warnings.warn(\n",
      "/home/rlsalas/miniconda3/envs/deepchem/lib/python3.8/site-packages/sklearn/base.py:439: UserWarning: X does not have valid feature names, but RobustScaler was fitted with feature names\n",
      "  warnings.warn(\n",
      "/home/rlsalas/miniconda3/envs/deepchem/lib/python3.8/site-packages/sklearn/base.py:439: UserWarning: X does not have valid feature names, but MinMaxScaler was fitted with feature names\n",
      "  warnings.warn(\n",
      "/home/rlsalas/miniconda3/envs/deepchem/lib/python3.8/site-packages/sklearn/base.py:439: UserWarning: X does not have valid feature names, but SVC was fitted with feature names\n",
      "  warnings.warn(\n",
      "/home/rlsalas/miniconda3/envs/deepchem/lib/python3.8/site-packages/sklearn/base.py:439: UserWarning: X does not have valid feature names, but RobustScaler was fitted with feature names\n",
      "  warnings.warn(\n",
      "/home/rlsalas/miniconda3/envs/deepchem/lib/python3.8/site-packages/sklearn/base.py:439: UserWarning: X does not have valid feature names, but MinMaxScaler was fitted with feature names\n",
      "  warnings.warn(\n",
      "/home/rlsalas/miniconda3/envs/deepchem/lib/python3.8/site-packages/sklearn/base.py:439: UserWarning: X does not have valid feature names, but SVC was fitted with feature names\n",
      "  warnings.warn(\n",
      "/home/rlsalas/miniconda3/envs/deepchem/lib/python3.8/site-packages/sklearn/base.py:439: UserWarning: X does not have valid feature names, but RobustScaler was fitted with feature names\n",
      "  warnings.warn(\n",
      "/home/rlsalas/miniconda3/envs/deepchem/lib/python3.8/site-packages/sklearn/base.py:439: UserWarning: X does not have valid feature names, but MinMaxScaler was fitted with feature names\n",
      "  warnings.warn(\n",
      "/home/rlsalas/miniconda3/envs/deepchem/lib/python3.8/site-packages/sklearn/base.py:439: UserWarning: X does not have valid feature names, but SVC was fitted with feature names\n",
      "  warnings.warn(\n",
      "/home/rlsalas/miniconda3/envs/deepchem/lib/python3.8/site-packages/sklearn/base.py:439: UserWarning: X does not have valid feature names, but RobustScaler was fitted with feature names\n",
      "  warnings.warn(\n",
      "/home/rlsalas/miniconda3/envs/deepchem/lib/python3.8/site-packages/sklearn/base.py:439: UserWarning: X does not have valid feature names, but MinMaxScaler was fitted with feature names\n",
      "  warnings.warn(\n",
      "/home/rlsalas/miniconda3/envs/deepchem/lib/python3.8/site-packages/sklearn/base.py:439: UserWarning: X does not have valid feature names, but SVC was fitted with feature names\n",
      "  warnings.warn(\n"
     ]
    }
   ],
   "source": [
    "import nbdev\n",
    "nbdev.export.nb_export('iscape_gr.ipynb', './')"
   ]
  },
  {
   "cell_type": "code",
   "execution_count": null,
   "id": "e59efe65",
   "metadata": {},
   "outputs": [],
   "source": []
  }
 ],
 "metadata": {
  "kernelspec": {
   "display_name": "Python 3 (ipykernel)",
   "language": "python",
   "name": "python3"
  },
  "language_info": {
   "codemirror_mode": {
    "name": "ipython",
    "version": 3
   },
   "file_extension": ".py",
   "mimetype": "text/x-python",
   "name": "python",
   "nbconvert_exporter": "python",
   "pygments_lexer": "ipython3",
   "version": "3.8.17"
  }
 },
 "nbformat": 4,
 "nbformat_minor": 5
}
